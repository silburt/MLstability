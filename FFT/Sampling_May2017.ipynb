{
 "cells": [
  {
   "cell_type": "code",
   "execution_count": 1,
   "metadata": {
    "collapsed": true
   },
   "outputs": [],
   "source": [
    "import numpy as np\n",
    "import rebound"
   ]
  },
  {
   "cell_type": "markdown",
   "metadata": {},
   "source": [
    "### Functions"
   ]
  },
  {
   "cell_type": "code",
   "execution_count": 9,
   "metadata": {
    "collapsed": true
   },
   "outputs": [],
   "source": [
    "#sampling interval\n",
    "def get_sample_interval(sim,samples_per_orbit):\n",
    "    o = sim.calculate_orbits(heliocentric=True)\n",
    "    return o[0].P/samples_per_orbit\n",
    "\n",
    "#remove high freq \n",
    "def low_pass(samples,tmax,cutoff):\n",
    "    Npts_sample = len(samples)\n",
    "    window = np.hanning(Npts_sample)\n",
    "    fft = 2*np.sqrt(np.fft.fft(sample*window)/Npts_sample)\n",
    "    freq = np.fft.fftfreq(Npts_sample, tmax/float(Npts_sample))\n",
    "    fft = fft[freq < cutoff]\n",
    "    return np.fft.ifft(fft)"
   ]
  },
  {
   "cell_type": "code",
   "execution_count": 3,
   "metadata": {},
   "outputs": [
    {
     "name": "stdout",
     "output_type": "stream",
     "text": [
      "---------------------------------\n",
      "REBOUND version:     \t3.4.0\n",
      "REBOUND built on:    \tMay 11 2017 15:14:36\n",
      "Number of particles: \t4\n",
      "Selected integrator: \twhfast\n",
      "Simulation time:     \t0.0000000000000000e+00\n",
      "Current timestep:    \t0.034640\n",
      "---------------------------------\n",
      "<rebound.Particle object, m=1.0 x=2.15130954841e-05 y=-2.83134950296e-05 z=-3.59702797063e-07 vx=0.000184889789743 vy=0.000118365239205 vz=-2.10835927452e-06>\n",
      "<rebound.Particle object, m=3.41401601921e-05 x=-0.0658395691021 y=0.997590609731 z=-0.00120070677257 vx=-6.26836429024 vy=-0.445311904669 vz=0.0559526195024>\n",
      "<rebound.Particle object, m=1.87872497534e-05 x=-1.14094577147 y=-0.203694227095 z=0.0167610663709 vx=1.22970372256 vy=-5.8554285143 vz=-0.0177819457008>\n",
      "<rebound.Particle object, m=1.82689985991e-06 x=1.18775591557 y=-1.04962177571 z=0.0469652335416 vx=3.28995608402 vy=3.74688214542 vz=0.291314126296>\n",
      "---------------------------------\n"
     ]
    },
    {
     "name": "stderr",
     "output_type": "stream",
     "text": [
      "/Users/silburt/phd/rebound/rebound/simulation.py:374: RuntimeWarning: You have to reset function pointers after creating a reb_simulation struct with a binary file.\n",
      "  warnings.warn(message, RuntimeWarning)\n"
     ]
    }
   ],
   "source": [
    "filename='ic0000000.bin'\n",
    "sim = rebound.Simulation.from_file(filename)\n",
    "sim.status()"
   ]
  },
  {
   "cell_type": "code",
   "execution_count": 4,
   "metadata": {
    "collapsed": true
   },
   "outputs": [],
   "source": [
    "samples_per_orbit = 3\n",
    "dt = get_sample_interval(sim,samples_per_orbit)\n",
    "tmax = 1e5\n",
    "\n",
    "sma = []\n",
    "while sim.t < tmax:\n",
    "    sim.integrate(sim.t + dt)\n",
    "    o = sim.calculate_orbits(heliocentric=True)\n",
    "    sma.append([o[0].a, o[1].a, o[2].a])"
   ]
  },
  {
   "cell_type": "code",
   "execution_count": 5,
   "metadata": {
    "collapsed": true
   },
   "outputs": [],
   "source": [
    "a1, a2, a3 = zip(*sma)"
   ]
  },
  {
   "cell_type": "code",
   "execution_count": 10,
   "metadata": {},
   "outputs": [
    {
     "data": {
      "text/plain": [
       "[<matplotlib.lines.Line2D at 0x119397710>]"
      ]
     },
     "execution_count": 10,
     "metadata": {},
     "output_type": "execute_result"
    },
    {
     "data": {
      "image/png": "[encoded data removed]",
      "text/plain": [
       "<matplotlib.figure.Figure at 0x118d23610>"
      ]
     },
     "metadata": {},
     "output_type": "display_data"
    }
   ],
   "source": [
    "import matplotlib.pyplot as plt\n",
    "%matplotlib inline\n",
    "plt.plot(a1)"
   ]
  },
  {
   "cell_type": "code",
   "execution_count": 18,
   "metadata": {},
   "outputs": [
    {
     "data": {
      "image/png": "[encoded data removed]",
      "text/plain": [
       "<matplotlib.figure.Figure at 0x11d0cad90>"
      ]
     },
     "metadata": {},
     "output_type": "display_data"
    }
   ],
   "source": [
    "samples = a3\n",
    "Npts = len(samples)\n",
    "window = np.hanning(Npts)\n",
    "fft = 2*np.sqrt(np.fft.fft(samples*window)/Npts)\n",
    "freq = np.fft.fftfreq(Npts, tmax/float(Npts))\n",
    "plt.plot(freq,fft, '.')\n",
    "plt.xlim([0,1.5])\n",
    "plt.yscale('log')\n",
    "#fft = fft[freq < cutoff]\n",
    "#samples2 = np.fft.ifft(fft)"
   ]
  },
  {
   "cell_type": "code",
   "execution_count": null,
   "metadata": {
    "collapsed": true
   },
   "outputs": [],
   "source": []
  }
 ],
 "metadata": {
  "kernelspec": {
   "display_name": "Python 2",
   "language": "python",
   "name": "python2"
  },
  "language_info": {
   "codemirror_mode": {
    "name": "ipython",
    "version": 2
   },
   "file_extension": ".py",
   "mimetype": "text/x-python",
   "name": "python",
   "nbconvert_exporter": "python",
   "pygments_lexer": "ipython2",
   "version": "2.7.13"
  },
  "widgets": {
   "state": {
    "ee46af2b4d99425898b8d3a0ab8b0fed": {
     "views": [
      {
       "cell_index": 1
      }
     ]
    }
   },
   "version": "1.2.0"
  }
 },
 "nbformat": 4,
 "nbformat_minor": 2
}
